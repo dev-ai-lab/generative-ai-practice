{
  "nbformat": 4,
  "nbformat_minor": 0,
  "metadata": {
    "colab": {
      "provenance": [],
      "authorship_tag": "ABX9TyP00WKyvKZjWU7y3rmOnz5B",
      "include_colab_link": true
    },
    "kernelspec": {
      "name": "python3",
      "display_name": "Python 3"
    },
    "language_info": {
      "name": "python"
    }
  },
  "cells": [
    {
      "cell_type": "markdown",
      "metadata": {
        "id": "view-in-github",
        "colab_type": "text"
      },
      "source": [
        "<a href=\"https://colab.research.google.com/github/dev-ai-lab/generative-ai-practice/blob/master/query-chatgpt.ipynb\" target=\"_parent\"><img src=\"https://colab.research.google.com/assets/colab-badge.svg\" alt=\"Open In Colab\"/></a>"
      ]
    },
    {
      "cell_type": "code",
      "execution_count": null,
      "metadata": {
        "id": "Je1KYFfc6Hmo"
      },
      "outputs": [],
      "source": [
        "!pip install --upgrade openai\n",
        "!pip install --upgrade python-dotenv"
      ]
    },
    {
      "cell_type": "code",
      "source": [
        "from dotenv import load_dotenv\n",
        "\n",
        "# Load environment variables from .env file. Prior to this step, create a .env file and put OPENAI_API_KEY=api-key\n",
        "load_dotenv()"
      ],
      "metadata": {
        "id": "iWuHWksEFDOC"
      },
      "execution_count": null,
      "outputs": []
    },
    {
      "cell_type": "code",
      "source": [
        "from openai import OpenAI\n",
        "client = OpenAI()\n",
        "# defaults to getting the key using os.environ.get(\"OPENAI_API_KEY\")\n",
        "# If you saved the key under a different environment variable name, you can do something like:\n",
        "# client = OpenAI(\n",
        "#   api_key=os.environ.get(\"CUSTOM_ENV_NAME\"),\n",
        "# )\n",
        "# Refer to: https://platform.openai.com/docs/quickstart?context=python\n",
        "completion = client.chat.completions.create(\n",
        "  model=\"gpt-3.5-turbo\",\n",
        "  messages=[\n",
        "    {\"role\": \"system\", \"content\": \"You are a poetic assistant, skilled in explaining complex programming concepts with creative flair.\"},\n",
        "    {\"role\": \"user\", \"content\": \"Compose a poem that explains the concept of recursion in programming.\"}\n",
        "  ]\n",
        ")\n",
        "\n",
        "print(completion.choices[0].message)"
      ],
      "metadata": {
        "id": "Vbgpg-JLFO5a"
      },
      "execution_count": null,
      "outputs": []
    }
  ]
}